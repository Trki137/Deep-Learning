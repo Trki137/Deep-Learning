{
 "cells": [
  {
   "cell_type": "markdown",
   "source": [
    "## 1. Stvaranje umjetnog skupa 2D podataka "
   ],
   "metadata": {
    "collapsed": false
   },
   "id": "4c0911f419179126"
  },
  {
   "cell_type": "code",
   "source": [
    "from typing import Tuple\n",
    "\n",
    "import numpy as np\n",
    "import matplotlib.pyplot as plt\n",
    "from numpy import ndarray\n",
    "import torch"
   ],
   "metadata": {
    "collapsed": false,
    "ExecuteTime": {
     "end_time": "2024-04-21T12:05:52.982547Z",
     "start_time": "2024-04-21T12:05:49.562361Z"
    }
   },
   "id": "ed0f2914f4ffe24",
   "outputs": [],
   "execution_count": 1
  },
  {
   "metadata": {
    "ExecuteTime": {
     "end_time": "2024-04-21T12:06:40.258437Z",
     "start_time": "2024-04-21T12:06:40.244408Z"
    }
   },
   "cell_type": "code",
   "source": [
    "a = torch.Tensor([1.231])\n",
    "print(a)\n",
    "c = a + 3\n",
    "c"
   ],
   "id": "9d4643a6b3c8b95d",
   "outputs": [
    {
     "name": "stdout",
     "output_type": "stream",
     "text": [
      "tensor([1.2310])\n"
     ]
    },
    {
     "data": {
      "text/plain": [
       "tensor([4.2310])"
      ]
     },
     "execution_count": 8,
     "metadata": {},
     "output_type": "execute_result"
    }
   ],
   "execution_count": 8
  },
  {
   "cell_type": "code",
   "id": "initial_id",
   "metadata": {
    "collapsed": true,
    "ExecuteTime": {
     "end_time": "2024-04-21T09:54:08.276875Z",
     "start_time": "2024-04-21T09:54:08.248280Z"
    }
   },
   "source": [
    "class Random2DGaussian:\n",
    "    def __init__(\n",
    "            self,\n",
    "            min_x: float = 0,\n",
    "            max_x: float = 10,\n",
    "            min_y: float = 0,\n",
    "            max_y: float = 10\n",
    "    ):\n",
    "        self.min_x: float = min_x\n",
    "        self.min_y: float = min_y\n",
    "        self.max_x: float = max_x\n",
    "        self.max_y: float = max_y\n",
    "\n",
    "        diff_x = max_x - min_x\n",
    "        diff_y = max_y - min_y\n",
    "\n",
    "        self.mean_x: float = diff_x * np.random.random_sample() + self.min_x\n",
    "        self.mean_y: float = diff_y * np.random.random_sample() + self.min_y\n",
    "        self.mean: ndarray = np.array([self.mean_x, self.mean_y])\n",
    "\n",
    "        eigen_value_x: float = (np.random.random_sample() * diff_x / 5) ** 2\n",
    "        eigen_value_y: float = (np.random.random_sample() * diff_x / 5) ** 2\n",
    "\n",
    "        theta: float = np.random.random_sample() * np.pi * 2\n",
    "        rotation_matrix: ndarray = np.array([\n",
    "            [np.cos(theta), -np.sin(theta)],\n",
    "            [np.sin(theta), np.cos(theta)]\n",
    "        ])\n",
    "\n",
    "        D = np.diag([eigen_value_x, eigen_value_y])\n",
    "\n",
    "        self.cov_matrix: ndarray = np.dot(np.dot(np.transpose(rotation_matrix), D), rotation_matrix)\n",
    "\n",
    "    # print(f\"Mean: {self.mean}\")\n",
    "    # print(f\"Covariance matrix:\\n {self.cov_matrix}\")\n",
    "\n",
    "    def get_sample(self, size: int = 100) -> ndarray:\n",
    "        return np.random.multivariate_normal(self.mean, self.cov_matrix, size)"
   ],
   "outputs": [],
   "execution_count": 3
  },
  {
   "cell_type": "code",
   "source": [
    "np.random.seed(100)\n",
    "G = Random2DGaussian()\n",
    "X = G.get_sample()\n",
    "plt.scatter(X[:, 0], X[:, 1])\n",
    "plt.show()"
   ],
   "metadata": {
    "collapsed": false,
    "ExecuteTime": {
     "end_time": "2024-04-21T09:54:08.747242Z",
     "start_time": "2024-04-21T09:54:08.547742Z"
    }
   },
   "id": "9ba8ec8e9e9588b4",
   "outputs": [
    {
     "data": {
      "text/plain": [
       "<Figure size 640x480 with 1 Axes>"
      ],
      "image/png": "[encoded data removed]"
     },
     "metadata": {},
     "output_type": "display_data"
    }
   ],
   "execution_count": 4
  },
  {
   "cell_type": "markdown",
   "source": [
    "## 2. Učenje binarne logističke regresija gradijentnim spustom"
   ],
   "metadata": {
    "collapsed": false
   },
   "id": "bb978732a02f28a5"
  },
  {
   "cell_type": "markdown",
   "source": [
    "### 2.1 Funkcija za treniranje modela binarne logističke regresije"
   ],
   "metadata": {
    "collapsed": false
   },
   "id": "5bc00af182ff3392"
  },
  {
   "cell_type": "code",
   "source": [
    "def binlogref_train(\n",
    "        X: ndarray,\n",
    "        Y_: ndarray,\n",
    "        param_niter: int = 1,\n",
    "        param_delta: float = 0.1\n",
    ") -> Tuple[ndarray, float]:\n",
    "    \"\"\"\n",
    "    Training parameters w and b for logistic regression model.\n",
    "    \n",
    "    :param X: data matrix \n",
    "    :param Y_: correct labels\n",
    "    :param param_niter: number of iterations\n",
    "    :param param_delta: step size\n",
    "    :return: trained parameters w and b\n",
    "    \"\"\"\n",
    "\n",
    "    w: ndarray = np.random.randn(X.shape[1])\n",
    "    b: float = 0\n",
    "    N: int = X.shape[0]\n",
    "    print(w)\n",
    "    for i in range(param_niter):\n",
    "        scores: ndarray = np.dot(X, w) + b\n",
    "        print(\"Scores\")\n",
    "        print(scores.shape)\n",
    "        probs: ndarray = 1 / (1 + np.exp(-scores))\n",
    "        ## print(f\"Probability: {probs}\")\n",
    "        error = 0\n",
    "\n",
    "        for j in range(len(Y_)):\n",
    "            error += -Y_[j] * np.log(probs[j]) - (1 - Y_[j]) * np.log(1 - probs[j])\n",
    "        error = error / N\n",
    "        \n",
    "        # loss: float = -np.sum(np.log(pred)) / N\n",
    "        if i % 10 == 0:\n",
    "          #  print(f'Iteration: {i}, Loss: {loss}')\n",
    "            print(f'Iteration: {i}, Error: {error}')\n",
    "            # print(f'\\tWeights: {w}, bias: {b}')\n",
    "\n",
    "        dL_dscores = probs - np.squeeze(Y_)\n",
    "\n",
    "        grad_w: ndarray = np.dot(X.T, dL_dscores) / N\n",
    "        grad_b: float = np.sum(dL_dscores) / N\n",
    "\n",
    "        w += -param_delta * grad_w\n",
    "        b += -param_delta * grad_b\n",
    "\n",
    "    return w, b"
   ],
   "metadata": {
    "collapsed": false,
    "ExecuteTime": {
     "end_time": "2024-04-21T10:04:23.643525Z",
     "start_time": "2024-04-21T10:04:23.622978Z"
    }
   },
   "id": "c312dd2ee54834fc",
   "outputs": [],
   "execution_count": 61
  },
  {
   "cell_type": "markdown",
   "source": [
    "### 2.2 Funkcija za klasifikaciju primjera"
   ],
   "metadata": {
    "collapsed": false
   },
   "id": "4cd0c17c5c47b2e1"
  },
  {
   "cell_type": "code",
   "source": [
    "def binlogreg_classification(X: ndarray, w: ndarray, b: float) -> ndarray:\n",
    "    \"\"\"\n",
    "    Binary logistic regression classifier with weights w and bias b.\n",
    "    :param X: data\n",
    "    :param w: weights\n",
    "    :param b: bias\n",
    "    :return: probability of data to be in class c1\n",
    "    \"\"\"\n",
    "\n",
    "    if X.shape[1] != w.shape[0]:\n",
    "        raise ValueError('Invalid shape for weights. Weights shape : {} and data shape : {}'.format(w.shape, X.shape))\n",
    "    if b is None:\n",
    "        raise ValueError('Bias is not defined')\n",
    "\n",
    "    scores: ndarray = np.dot(X, w) + b\n",
    "    return 1 / (1 + np.exp(-scores))"
   ],
   "metadata": {
    "collapsed": false,
    "ExecuteTime": {
     "end_time": "2024-04-21T09:57:54.219089Z",
     "start_time": "2024-04-21T09:57:54.207824Z"
    }
   },
   "id": "e354cfcc2285110f",
   "outputs": [],
   "execution_count": 35
  },
  {
   "cell_type": "markdown",
   "source": [
    "### 2.3 Sample gauss function\n",
    "Generating C random bivariant Gauss distributions."
   ],
   "metadata": {
    "collapsed": false
   },
   "id": "381e7cf92969d994"
  },
  {
   "cell_type": "code",
   "source": [
    "def sample_gauss_2d(C: int, N: int) -> Tuple[ndarray, np.ndarray]:\n",
    "    G = Random2DGaussian()\n",
    "    X = G.get_sample(size=N)\n",
    "    Y = np.array([[0]] * N)\n",
    "\n",
    "    for i in range(1, C):\n",
    "        G = Random2DGaussian()\n",
    "        X = np.vstack((X, G.get_sample(N)))\n",
    "        Y = np.vstack((Y, [[i]] * N))\n",
    "\n",
    "    return X, Y\n"
   ],
   "metadata": {
    "collapsed": false,
    "ExecuteTime": {
     "end_time": "2024-04-21T09:57:54.502938Z",
     "start_time": "2024-04-21T09:57:54.490938Z"
    }
   },
   "id": "83591d4d6ceb1290",
   "outputs": [],
   "execution_count": 36
  },
  {
   "cell_type": "code",
   "source": [
    "sample_gauss_2d(2, 10)"
   ],
   "metadata": {
    "collapsed": false,
    "ExecuteTime": {
     "end_time": "2024-04-21T09:57:54.612424Z",
     "start_time": "2024-04-21T09:57:54.603481Z"
    }
   },
   "id": "3723e05c7bb70916",
   "outputs": [
    {
     "data": {
      "text/plain": [
       "(array([[8.05330757, 6.5945604 ],\n",
       "        [7.96299763, 5.88522714],\n",
       "        [6.72814924, 6.40000658],\n",
       "        [8.15121021, 5.94263465],\n",
       "        [7.99467512, 5.90516106],\n",
       "        [8.83138026, 6.12135531],\n",
       "        [8.92098227, 4.16164142],\n",
       "        [8.51556124, 6.05407974],\n",
       "        [8.75310008, 6.1303006 ],\n",
       "        [9.91437873, 4.75966956],\n",
       "        [6.32031383, 6.22787495],\n",
       "        [5.73898095, 3.31978684],\n",
       "        [7.00531028, 7.20857919],\n",
       "        [7.07494599, 5.40737086],\n",
       "        [5.11516428, 3.09378665],\n",
       "        [5.17722605, 4.21852132],\n",
       "        [5.92225164, 4.93603226],\n",
       "        [6.76154481, 7.39792146],\n",
       "        [5.60915582, 5.49032835],\n",
       "        [4.67832456, 3.81796642]]),\n",
       " array([[0],\n",
       "        [0],\n",
       "        [0],\n",
       "        [0],\n",
       "        [0],\n",
       "        [0],\n",
       "        [0],\n",
       "        [0],\n",
       "        [0],\n",
       "        [0],\n",
       "        [1],\n",
       "        [1],\n",
       "        [1],\n",
       "        [1],\n",
       "        [1],\n",
       "        [1],\n",
       "        [1],\n",
       "        [1],\n",
       "        [1],\n",
       "        [1]]))"
      ]
     },
     "execution_count": 37,
     "metadata": {},
     "output_type": "execute_result"
    }
   ],
   "execution_count": 37
  },
  {
   "cell_type": "markdown",
   "source": [
    "### 2.3 Statistical accuracy"
   ],
   "metadata": {
    "collapsed": false
   },
   "id": "b4b1cc4dba59df09"
  },
  {
   "cell_type": "markdown",
   "source": [
    "#### 2.3.1 Get statistical data\n",
    "Function for calculating TP, TN, FN, FP"
   ],
   "metadata": {
    "collapsed": false
   },
   "id": "160a67a01ce4b968"
  },
  {
   "cell_type": "code",
   "source": [
    "def get_statistical_data(Y_: ndarray, Y: ndarray) -> Tuple[float, float, float, float]:\n",
    "    \"\"\"\n",
    "    Calculating TP, TN, FP, FN\n",
    "    :param Y_: Correct classes\n",
    "    :param Y: Predicted classes\n",
    "    :return: TP, TN, FN, FP\n",
    "    \"\"\"\n",
    "\n",
    "    TP = np.sum(np.logical_and(Y_ == Y, Y_ == 1))\n",
    "    TN = np.sum(np.logical_and(Y_ == Y, Y_ == 0))\n",
    "    FP = np.sum(np.logical_and(Y_ != Y, Y == 1))\n",
    "    FN = np.sum(np.logical_and(Y_ != Y, Y == 0))\n",
    "\n",
    "    return TP, TN, FP, FN"
   ],
   "metadata": {
    "collapsed": false,
    "ExecuteTime": {
     "end_time": "2024-04-21T09:57:55.005361Z",
     "start_time": "2024-04-21T09:57:54.989834Z"
    }
   },
   "id": "1b585251ebd8853f",
   "outputs": [],
   "execution_count": 38
  },
  {
   "cell_type": "code",
   "source": [
    "get_statistical_data(\n",
    "    np.array([1, 0, 0, 1, 1]), np.array([1, 0, 1, 0, 1])\n",
    ")"
   ],
   "metadata": {
    "collapsed": false,
    "ExecuteTime": {
     "end_time": "2024-04-21T09:57:55.650858Z",
     "start_time": "2024-04-21T09:57:55.639860Z"
    }
   },
   "id": "c48c0ecf0032e123",
   "outputs": [
    {
     "data": {
      "text/plain": [
       "(2, 1, 1, 1)"
      ]
     },
     "execution_count": 39,
     "metadata": {},
     "output_type": "execute_result"
    }
   ],
   "execution_count": 39
  },
  {
   "cell_type": "markdown",
   "source": [
    "#### 2.3.2 Function eval_perf_binary"
   ],
   "metadata": {
    "collapsed": false
   },
   "id": "a71885b6aae8a52b"
  },
  {
   "cell_type": "code",
   "source": [
    "def eval_perf_binary(Y: ndarray, Y_: ndarray) -> Tuple[float, float, float]:\n",
    "    \"\"\"\n",
    "    Calculating accuracy, precision and recall\n",
    "    :param Y_: Correct classes\n",
    "    :param Y: Predicted classes\n",
    "    :return: accuracy, precision and recall\n",
    "    \"\"\"\n",
    "\n",
    "    if len(Y) != len(Y_):\n",
    "        raise ValueError(\"Predicted classes must have the same length as actual classes\")\n",
    "\n",
    "    TP, TN, FP, FN = get_statistical_data(Y_=Y_, Y=Y)\n",
    "\n",
    "    print(f\"TP: {TP}, TN: {TN}, FP: {FP}, FN: {FN}\")\n",
    "\n",
    "    accuracy = (TP + TN) / (TP + TN + FN + FP)\n",
    "    precision = TP / (TP + FP)\n",
    "    recall = TP / (TP + FN)\n",
    "\n",
    "    return accuracy, precision, recall"
   ],
   "metadata": {
    "collapsed": false,
    "ExecuteTime": {
     "end_time": "2024-04-21T09:57:56.480144Z",
     "start_time": "2024-04-21T09:57:56.463684Z"
    }
   },
   "id": "71fdbbdf83e07c38",
   "outputs": [],
   "execution_count": 40
  },
  {
   "cell_type": "markdown",
   "source": [
    "#### 2.3.3 Function eval_AP"
   ],
   "metadata": {
    "collapsed": false
   },
   "id": "faf7d606bce69881"
  },
  {
   "cell_type": "code",
   "source": [
    "### TODO"
   ],
   "metadata": {
    "collapsed": false,
    "ExecuteTime": {
     "end_time": "2024-04-21T09:57:57.120256Z",
     "start_time": "2024-04-21T09:57:57.115252Z"
    }
   },
   "id": "c3d0f1a633e60a69",
   "outputs": [],
   "execution_count": 41
  },
  {
   "cell_type": "markdown",
   "source": [
    "### 2.4 Test code"
   ],
   "metadata": {
    "collapsed": false
   },
   "id": "4b573d6754ffabe"
  },
  {
   "cell_type": "code",
   "source": [
    "np.random.seed(100)\n",
    "\n",
    "X, Y_ = sample_gauss_2d(2, 100)\n",
    "w, b = binlogref_train(X, Y_, param_niter=1, param_delta=0.2)\n",
    "probs = binlogreg_classification(X, w, b)\n",
    "Y = np.round(probs).astype(int)\n",
    "Y_ = np.squeeze(Y_)\n",
    "accuracy, precision, recall = eval_perf_binary(Y_, Y)\n",
    "print(f\"Accuracy: {accuracy}, Precision: {precision}, Recall: {recall}\")"
   ],
   "metadata": {
    "collapsed": false,
    "ExecuteTime": {
     "end_time": "2024-04-21T10:03:27.650803Z",
     "start_time": "2024-04-21T10:03:27.610801Z"
    }
   },
   "id": "ea6d9425bb3a8664",
   "outputs": [
    {
     "name": "stdout",
     "output_type": "stream",
     "text": [
      "[ 1.48789443 -0.35781685]\n",
      "Scores\n",
      "(200,)\n",
      "Y_:\n",
      "[[0]\n",
      " [0]\n",
      " [0]\n",
      " [0]\n",
      " [0]\n",
      " [0]\n",
      " [0]\n",
      " [0]\n",
      " [0]\n",
      " [0]\n",
      " [0]\n",
      " [0]\n",
      " [0]\n",
      " [0]\n",
      " [0]\n",
      " [0]\n",
      " [0]\n",
      " [0]\n",
      " [0]\n",
      " [0]\n",
      " [0]\n",
      " [0]\n",
      " [0]\n",
      " [0]\n",
      " [0]\n",
      " [0]\n",
      " [0]\n",
      " [0]\n",
      " [0]\n",
      " [0]\n",
      " [0]\n",
      " [0]\n",
      " [0]\n",
      " [0]\n",
      " [0]\n",
      " [0]\n",
      " [0]\n",
      " [0]\n",
      " [0]\n",
      " [0]\n",
      " [0]\n",
      " [0]\n",
      " [0]\n",
      " [0]\n",
      " [0]\n",
      " [0]\n",
      " [0]\n",
      " [0]\n",
      " [0]\n",
      " [0]\n",
      " [0]\n",
      " [0]\n",
      " [0]\n",
      " [0]\n",
      " [0]\n",
      " [0]\n",
      " [0]\n",
      " [0]\n",
      " [0]\n",
      " [0]\n",
      " [0]\n",
      " [0]\n",
      " [0]\n",
      " [0]\n",
      " [0]\n",
      " [0]\n",
      " [0]\n",
      " [0]\n",
      " [0]\n",
      " [0]\n",
      " [0]\n",
      " [0]\n",
      " [0]\n",
      " [0]\n",
      " [0]\n",
      " [0]\n",
      " [0]\n",
      " [0]\n",
      " [0]\n",
      " [0]\n",
      " [0]\n",
      " [0]\n",
      " [0]\n",
      " [0]\n",
      " [0]\n",
      " [0]\n",
      " [0]\n",
      " [0]\n",
      " [0]\n",
      " [0]\n",
      " [0]\n",
      " [0]\n",
      " [0]\n",
      " [0]\n",
      " [0]\n",
      " [0]\n",
      " [0]\n",
      " [0]\n",
      " [0]\n",
      " [0]\n",
      " [1]\n",
      " [1]\n",
      " [1]\n",
      " [1]\n",
      " [1]\n",
      " [1]\n",
      " [1]\n",
      " [1]\n",
      " [1]\n",
      " [1]\n",
      " [1]\n",
      " [1]\n",
      " [1]\n",
      " [1]\n",
      " [1]\n",
      " [1]\n",
      " [1]\n",
      " [1]\n",
      " [1]\n",
      " [1]\n",
      " [1]\n",
      " [1]\n",
      " [1]\n",
      " [1]\n",
      " [1]\n",
      " [1]\n",
      " [1]\n",
      " [1]\n",
      " [1]\n",
      " [1]\n",
      " [1]\n",
      " [1]\n",
      " [1]\n",
      " [1]\n",
      " [1]\n",
      " [1]\n",
      " [1]\n",
      " [1]\n",
      " [1]\n",
      " [1]\n",
      " [1]\n",
      " [1]\n",
      " [1]\n",
      " [1]\n",
      " [1]\n",
      " [1]\n",
      " [1]\n",
      " [1]\n",
      " [1]\n",
      " [1]\n",
      " [1]\n",
      " [1]\n",
      " [1]\n",
      " [1]\n",
      " [1]\n",
      " [1]\n",
      " [1]\n",
      " [1]\n",
      " [1]\n",
      " [1]\n",
      " [1]\n",
      " [1]\n",
      " [1]\n",
      " [1]\n",
      " [1]\n",
      " [1]\n",
      " [1]\n",
      " [1]\n",
      " [1]\n",
      " [1]\n",
      " [1]\n",
      " [1]\n",
      " [1]\n",
      " [1]\n",
      " [1]\n",
      " [1]\n",
      " [1]\n",
      " [1]\n",
      " [1]\n",
      " [1]\n",
      " [1]\n",
      " [1]\n",
      " [1]\n",
      " [1]\n",
      " [1]\n",
      " [1]\n",
      " [1]\n",
      " [1]\n",
      " [1]\n",
      " [1]\n",
      " [1]\n",
      " [1]\n",
      " [1]\n",
      " [1]\n",
      " [1]\n",
      " [1]\n",
      " [1]\n",
      " [1]\n",
      " [1]\n",
      " [1]]\n",
      "Probs:\n",
      "[0.99727264 0.99943412 0.99891149 0.99879093 0.99889649 0.99817998\n",
      " 0.99475621 0.99906688 0.99710839 0.99889923 0.99960715 0.99923375\n",
      " 0.99898423 0.99985155 0.99864142 0.99814202 0.99975591 0.99992123\n",
      " 0.99907491 0.99979066 0.99956833 0.99957111 0.99813013 0.99821641\n",
      " 0.99885768 0.99917793 0.99918461 0.93775919 0.99738696 0.99697017\n",
      " 0.99986428 0.99992454 0.9990921  0.99258947 0.99984176 0.99977484\n",
      " 0.99933223 0.99979649 0.99413712 0.99971437 0.98293129 0.99362095\n",
      " 0.99992864 0.99990647 0.99971941 0.98607434 0.99938937 0.99904642\n",
      " 0.99076803 0.99993021 0.99971838 0.99923061 0.98479069 0.99992267\n",
      " 0.98892139 0.99916912 0.99891785 0.97177937 0.99948546 0.99988537\n",
      " 0.99165641 0.99961246 0.99689069 0.99982265 0.99897891 0.99980565\n",
      " 0.9979928  0.99981628 0.99928948 0.99911574 0.99962454 0.99935959\n",
      " 0.99655868 0.99993608 0.99921325 0.99871063 0.99881969 0.99980788\n",
      " 0.9999668  0.99897476 0.99998411 0.99861959 0.99951788 0.99921678\n",
      " 0.99936174 0.99666892 0.99907519 0.999962   0.99972274 0.99647875\n",
      " 0.99977766 0.99982598 0.99881215 0.99826279 0.99637669 0.99932987\n",
      " 0.99982257 0.99934713 0.99987696 0.99965704 0.99986929 0.99982233\n",
      " 0.999722   0.99771547 0.99917732 0.99963364 0.99994686 0.99991365\n",
      " 0.99969965 0.99995367 0.99994901 0.99985757 0.99875195 0.99998874\n",
      " 0.99965669 0.99992251 0.99851398 0.99981422 0.99903427 0.99983436\n",
      " 0.99882753 0.99969016 0.99855673 0.99889898 0.99991031 0.99938477\n",
      " 0.99993345 0.99989598 0.999826   0.99948268 0.99978735 0.99873305\n",
      " 0.99997318 0.99981378 0.99815483 0.99691013 0.99994279 0.99978555\n",
      " 0.99991941 0.99943929 0.99979089 0.99986779 0.99988277 0.9999753\n",
      " 0.99990221 0.94222464 0.99772221 0.99873676 0.99983201 0.99961182\n",
      " 0.99930639 0.99894785 0.99940966 0.99968074 0.99944514 0.99995155\n",
      " 0.99944603 0.99993952 0.99973968 0.99992869 0.99991553 0.99998665\n",
      " 0.99910547 0.99879473 0.99950118 0.99872103 0.9998747  0.99973886\n",
      " 0.99998599 0.99995066 0.99978106 0.99956634 0.99919113 0.99981923\n",
      " 0.99964894 0.99985354 0.99905469 0.99983173 0.99998047 0.99991971\n",
      " 0.99997893 0.99994673 0.99942588 0.99988964 0.99980868 0.99995877\n",
      " 0.99997825 0.9996707  0.99981658 0.99984975 0.99988178 0.99976179\n",
      " 0.99996999 0.99993216 0.99991271 0.9998254  0.99993563 0.99990819\n",
      " 0.999985   0.99992441]\n",
      "Pred\n",
      "[[0.99727264]\n",
      " [0.99727264]\n",
      " [0.99727264]\n",
      " [0.99727264]\n",
      " [0.99727264]\n",
      " [0.99727264]\n",
      " [0.99727264]\n",
      " [0.99727264]\n",
      " [0.99727264]\n",
      " [0.99727264]\n",
      " [0.99727264]\n",
      " [0.99727264]\n",
      " [0.99727264]\n",
      " [0.99727264]\n",
      " [0.99727264]\n",
      " [0.99727264]\n",
      " [0.99727264]\n",
      " [0.99727264]\n",
      " [0.99727264]\n",
      " [0.99727264]\n",
      " [0.99727264]\n",
      " [0.99727264]\n",
      " [0.99727264]\n",
      " [0.99727264]\n",
      " [0.99727264]\n",
      " [0.99727264]\n",
      " [0.99727264]\n",
      " [0.99727264]\n",
      " [0.99727264]\n",
      " [0.99727264]\n",
      " [0.99727264]\n",
      " [0.99727264]\n",
      " [0.99727264]\n",
      " [0.99727264]\n",
      " [0.99727264]\n",
      " [0.99727264]\n",
      " [0.99727264]\n",
      " [0.99727264]\n",
      " [0.99727264]\n",
      " [0.99727264]\n",
      " [0.99727264]\n",
      " [0.99727264]\n",
      " [0.99727264]\n",
      " [0.99727264]\n",
      " [0.99727264]\n",
      " [0.99727264]\n",
      " [0.99727264]\n",
      " [0.99727264]\n",
      " [0.99727264]\n",
      " [0.99727264]\n",
      " [0.99727264]\n",
      " [0.99727264]\n",
      " [0.99727264]\n",
      " [0.99727264]\n",
      " [0.99727264]\n",
      " [0.99727264]\n",
      " [0.99727264]\n",
      " [0.99727264]\n",
      " [0.99727264]\n",
      " [0.99727264]\n",
      " [0.99727264]\n",
      " [0.99727264]\n",
      " [0.99727264]\n",
      " [0.99727264]\n",
      " [0.99727264]\n",
      " [0.99727264]\n",
      " [0.99727264]\n",
      " [0.99727264]\n",
      " [0.99727264]\n",
      " [0.99727264]\n",
      " [0.99727264]\n",
      " [0.99727264]\n",
      " [0.99727264]\n",
      " [0.99727264]\n",
      " [0.99727264]\n",
      " [0.99727264]\n",
      " [0.99727264]\n",
      " [0.99727264]\n",
      " [0.99727264]\n",
      " [0.99727264]\n",
      " [0.99727264]\n",
      " [0.99727264]\n",
      " [0.99727264]\n",
      " [0.99727264]\n",
      " [0.99727264]\n",
      " [0.99727264]\n",
      " [0.99727264]\n",
      " [0.99727264]\n",
      " [0.99727264]\n",
      " [0.99727264]\n",
      " [0.99727264]\n",
      " [0.99727264]\n",
      " [0.99727264]\n",
      " [0.99727264]\n",
      " [0.99727264]\n",
      " [0.99727264]\n",
      " [0.99727264]\n",
      " [0.99727264]\n",
      " [0.99727264]\n",
      " [0.99727264]\n",
      " [0.99943412]\n",
      " [0.99943412]\n",
      " [0.99943412]\n",
      " [0.99943412]\n",
      " [0.99943412]\n",
      " [0.99943412]\n",
      " [0.99943412]\n",
      " [0.99943412]\n",
      " [0.99943412]\n",
      " [0.99943412]\n",
      " [0.99943412]\n",
      " [0.99943412]\n",
      " [0.99943412]\n",
      " [0.99943412]\n",
      " [0.99943412]\n",
      " [0.99943412]\n",
      " [0.99943412]\n",
      " [0.99943412]\n",
      " [0.99943412]\n",
      " [0.99943412]\n",
      " [0.99943412]\n",
      " [0.99943412]\n",
      " [0.99943412]\n",
      " [0.99943412]\n",
      " [0.99943412]\n",
      " [0.99943412]\n",
      " [0.99943412]\n",
      " [0.99943412]\n",
      " [0.99943412]\n",
      " [0.99943412]\n",
      " [0.99943412]\n",
      " [0.99943412]\n",
      " [0.99943412]\n",
      " [0.99943412]\n",
      " [0.99943412]\n",
      " [0.99943412]\n",
      " [0.99943412]\n",
      " [0.99943412]\n",
      " [0.99943412]\n",
      " [0.99943412]\n",
      " [0.99943412]\n",
      " [0.99943412]\n",
      " [0.99943412]\n",
      " [0.99943412]\n",
      " [0.99943412]\n",
      " [0.99943412]\n",
      " [0.99943412]\n",
      " [0.99943412]\n",
      " [0.99943412]\n",
      " [0.99943412]\n",
      " [0.99943412]\n",
      " [0.99943412]\n",
      " [0.99943412]\n",
      " [0.99943412]\n",
      " [0.99943412]\n",
      " [0.99943412]\n",
      " [0.99943412]\n",
      " [0.99943412]\n",
      " [0.99943412]\n",
      " [0.99943412]\n",
      " [0.99943412]\n",
      " [0.99943412]\n",
      " [0.99943412]\n",
      " [0.99943412]\n",
      " [0.99943412]\n",
      " [0.99943412]\n",
      " [0.99943412]\n",
      " [0.99943412]\n",
      " [0.99943412]\n",
      " [0.99943412]\n",
      " [0.99943412]\n",
      " [0.99943412]\n",
      " [0.99943412]\n",
      " [0.99943412]\n",
      " [0.99943412]\n",
      " [0.99943412]\n",
      " [0.99943412]\n",
      " [0.99943412]\n",
      " [0.99943412]\n",
      " [0.99943412]\n",
      " [0.99943412]\n",
      " [0.99943412]\n",
      " [0.99943412]\n",
      " [0.99943412]\n",
      " [0.99943412]\n",
      " [0.99943412]\n",
      " [0.99943412]\n",
      " [0.99943412]\n",
      " [0.99943412]\n",
      " [0.99943412]\n",
      " [0.99943412]\n",
      " [0.99943412]\n",
      " [0.99943412]\n",
      " [0.99943412]\n",
      " [0.99943412]\n",
      " [0.99943412]\n",
      " [0.99943412]\n",
      " [0.99943412]\n",
      " [0.99943412]\n",
      " [0.99943412]]\n",
      "Iteration: 0, Loss: 0.0016485646480547845\n",
      "Iteration: 0, Error: [3.59841584]\n",
      "TP: 99, TN: 0, FP: 1, FN: 100\n",
      "Accuracy: 0.495, Precision: 0.99, Recall: 0.49748743718592964\n"
     ]
    }
   ],
   "execution_count": 58
  },
  {
   "metadata": {
    "ExecuteTime": {
     "end_time": "2024-04-21T10:03:51.602639Z",
     "start_time": "2024-04-21T10:03:51.580967Z"
    }
   },
   "cell_type": "code",
   "source": "X",
   "id": "a8a91a87905a6c1d",
   "outputs": [
    {
     "data": {
      "text/plain": [
       "array([[ 4.78471104,  3.40245653],\n",
       "       [ 5.59893671,  2.38687115],\n",
       "       [ 5.63332248,  4.35957547],\n",
       "       [ 4.95248799,  1.82240276],\n",
       "       [ 5.15549963,  2.410959  ],\n",
       "       [ 5.08282039,  3.50910007],\n",
       "       [ 4.00125705,  1.97865106],\n",
       "       [ 4.95183935,  1.09489227],\n",
       "       [ 4.91784346,  4.11994966],\n",
       "       [ 5.26475241,  2.85830851],\n",
       "       [ 5.58471899,  1.30729401],\n",
       "       [ 5.32541462,  2.09720781],\n",
       "       [ 5.93435063,  5.41785058],\n",
       "       [ 7.05230344,  4.68946487],\n",
       "       [ 5.72737617,  5.37082561],\n",
       "       [ 4.55758137,  1.38281333],\n",
       "       [ 6.13032153,  2.24564803],\n",
       "       [ 6.32631735, -0.10080164],\n",
       "       [ 4.94883341,  1.05820135],\n",
       "       [ 5.40374791, -1.20496135],\n",
       "       [ 6.57507436,  5.68896838],\n",
       "       [ 5.93103336,  2.99277088],\n",
       "       [ 4.25797174,  0.15482832],\n",
       "       [ 4.65926139,  1.69121339],\n",
       "       [ 4.94507052,  1.63265199],\n",
       "       [ 6.0598389 ,  5.34782571],\n",
       "       [ 5.17521231,  1.64647167],\n",
       "       [ 2.81444144,  4.12252665],\n",
       "       [ 4.69427726,  2.90641253],\n",
       "       [ 5.00097304,  4.59649679],\n",
       "       [ 6.32137916,  1.39959955],\n",
       "       [ 7.30022526,  3.8291979 ],\n",
       "       [ 5.11884941,  1.71272363],\n",
       "       [ 3.79475554,  2.09263595],\n",
       "       [ 6.04709206,  0.68810671],\n",
       "       [ 5.83933968,  0.81007239],\n",
       "       [ 6.05147738,  4.73163203],\n",
       "       [ 6.58658637,  3.63470118],\n",
       "       [ 4.57777505,  4.68958409],\n",
       "       [ 6.2875535 ,  3.33885519],\n",
       "       [ 3.70532892,  4.07986971],\n",
       "       [ 3.95157852,  2.32296276],\n",
       "       [ 7.07604277,  2.74092822],\n",
       "       [ 6.9819427 ,  3.10552621],\n",
       "       [ 5.13185847, -1.51657233],\n",
       "       [ 3.54978859,  2.85540481],\n",
       "       [ 5.29237922,  1.3249469 ],\n",
       "       [ 5.39020321,  2.978382  ],\n",
       "       [ 4.07461449,  3.8756922 ],\n",
       "       [ 7.21178624,  3.24292161],\n",
       "       [ 5.65004343,  0.64837806],\n",
       "       [ 4.99907565,  0.75163745],\n",
       "       [ 4.16792186,  5.67582578],\n",
       "       [ 6.97648057,  2.55134863],\n",
       "       [ 3.98728601,  4.02737227],\n",
       "       [ 4.62245048, -0.59938643],\n",
       "       [ 4.83551411,  1.02569725],\n",
       "       [ 2.86222098,  2.01110429],\n",
       "       [ 5.87172734,  3.25528501],\n",
       "       [ 6.51466246,  1.73127946],\n",
       "       [ 4.40658235,  4.97083017],\n",
       "       [ 5.69270416,  1.71830956],\n",
       "       [ 4.50105781,  2.59031964],\n",
       "       [ 6.49712373,  2.87815797],\n",
       "       [ 5.11656365,  2.03189743],\n",
       "       [ 6.27780139,  2.22201746],\n",
       "       [ 4.50833411,  1.39434894],\n",
       "       [ 6.40826021,  2.60726206],\n",
       "       [ 5.97156687,  4.5728838 ],\n",
       "       [ 5.28425259,  2.32669244],\n",
       "       [ 5.96115211,  2.74605412],\n",
       "       [ 6.16454068,  5.08479655],\n",
       "       [ 3.8584437 ,  0.20263068],\n",
       "       [ 6.87813547,  1.61008327],\n",
       "       [ 5.50214601,  2.90596226],\n",
       "       [ 5.06329591,  2.46310915],\n",
       "       [ 5.4566924 ,  3.85164657],\n",
       "       [ 6.17184717,  1.74910288],\n",
       "       [ 7.02155634,  0.37573127],\n",
       "       [ 5.65753613,  4.29274866],\n",
       "       [ 7.91978873,  2.05107171],\n",
       "       [ 4.63501905,  0.87314013],\n",
       "       [ 5.46382875,  1.37714963],\n",
       "       [ 5.95558419,  4.77887455],\n",
       "       [ 5.65354073,  2.95051668],\n",
       "       [ 3.36655739, -1.93406606],\n",
       "       [ 5.41990134,  3.01620286],\n",
       "       [ 7.10139591,  1.08499853],\n",
       "       [ 5.96182535,  1.90121057],\n",
       "       [ 4.71437284,  3.82619913],\n",
       "       [ 6.39040889,  3.06626327],\n",
       "       [ 6.80510151,  4.1058129 ],\n",
       "       [ 5.64368066,  4.64701442],\n",
       "       [ 5.16202014,  3.70804893],\n",
       "       [ 5.11975564,  5.59202019],\n",
       "       [ 5.06297999,  0.6310617 ],\n",
       "       [ 6.06116077,  1.06642322],\n",
       "       [ 5.71318223,  3.26180929],\n",
       "       [ 5.75971953, -1.21024809],\n",
       "       [ 5.60435405,  1.00924786],\n",
       "       [ 8.08965029,  8.6473313 ],\n",
       "       [ 7.9491189 ,  8.92092623],\n",
       "       [ 7.69552141,  9.11781853],\n",
       "       [ 6.19242692,  8.75970543],\n",
       "       [ 7.54783419, 11.53734155],\n",
       "       [ 7.55650434,  9.31135482],\n",
       "       [ 8.91403506,  9.55970109],\n",
       "       [ 8.77649552, 10.34467231],\n",
       "       [ 7.43273583,  8.24122674],\n",
       "       [ 9.31524023, 10.84496046],\n",
       "       [ 9.05474643, 10.02958518],\n",
       "       [ 8.20394168,  9.36248557],\n",
       "       [ 6.5745866 ,  8.65628442],\n",
       "       [10.58395901, 12.16738632],\n",
       "       [ 7.82327728, 10.23899793],\n",
       "       [ 8.83704887, 10.29391235],\n",
       "       [ 6.46906163,  8.70589521],\n",
       "       [ 7.80206899,  8.43423748],\n",
       "       [ 6.55129885,  7.84195922],\n",
       "       [ 8.31365922, 10.24080288],\n",
       "       [ 6.47196688,  8.05477194],\n",
       "       [ 7.82737617,  9.9692027 ],\n",
       "       [ 6.00633621,  6.70006092],\n",
       "       [ 7.06523732, 10.34581801],\n",
       "       [ 8.32799737,  8.58586506],\n",
       "       [ 6.90205038,  8.03936269],\n",
       "       [ 9.18855349, 11.32999248],\n",
       "       [ 8.53805233,  9.873598  ],\n",
       "       [ 8.35322534, 10.54286353],\n",
       "       [ 7.518303  , 10.11722541],\n",
       "       [ 7.86578894,  9.07674006],\n",
       "       [ 6.60087935,  8.80767629],\n",
       "       [10.04859706, 12.36615905],\n",
       "       [ 8.21122408, 10.14217973],\n",
       "       [ 6.63188633,  9.98893293],\n",
       "       [ 5.70195761,  7.56638749],\n",
       "       [ 8.98903058, 10.07781945],\n",
       "       [ 8.08831155, 10.02566738],\n",
       "       [ 8.66575189,  9.69108925],\n",
       "       [ 6.83610262,  7.5056636 ],\n",
       "       [ 7.71359132,  8.39688124],\n",
       "       [ 8.20835525,  9.17288187],\n",
       "       [ 8.29915727,  9.2142446 ],\n",
       "       [ 9.98925482, 11.88978061],\n",
       "       [ 8.67612237, 10.27489391],\n",
       "       [ 3.57529458,  7.06500973],\n",
       "       [ 6.04345549,  8.13196656],\n",
       "       [ 6.26902313,  7.41953742],\n",
       "       [ 7.94218502,  8.73550293],\n",
       "       [ 7.44746725,  9.01966884],\n",
       "       [ 7.20734279,  9.64421621],\n",
       "       [ 6.44182454,  7.6265013 ],\n",
       "       [ 7.40452794, 10.01331941],\n",
       "       [ 7.84003134, 10.10559147],\n",
       "       [ 7.12109589,  8.66141874],\n",
       "       [ 9.3861992 , 11.26494864],\n",
       "       [ 6.99353589,  8.12649146],\n",
       "       [ 9.18571136, 11.05115045],\n",
       "       [ 7.76204199,  9.21069425],\n",
       "       [ 8.84087809, 10.0773208 ],\n",
       "       [ 8.915202  , 10.85977049],\n",
       "       [10.11033938, 10.67399358],\n",
       "       [ 7.16049318, 10.16090617],\n",
       "       [ 5.9304814 ,  5.88033443],\n",
       "       [ 7.32447327,  9.2094137 ],\n",
       "       [ 6.62833284,  8.94825617],\n",
       "       [ 8.40281179,  9.83139673],\n",
       "       [ 7.90191258,  9.80113348],\n",
       "       [10.33350824, 11.7372055 ],\n",
       "       [ 9.3091511 , 10.99510276],\n",
       "       [ 7.86571004,  9.15796517],\n",
       "       [ 7.26844772,  8.58501191],\n",
       "       [ 6.6623876 ,  7.80809023],\n",
       "       [ 7.97388283,  9.07218368],\n",
       "       [ 7.75072102,  9.99969446],\n",
       "       [ 8.27907009,  9.75301321],\n",
       "       [ 6.86734993,  9.09638101],\n",
       "       [ 8.31700337, 10.29870018],\n",
       "       [10.22281404, 12.20475242],\n",
       "       [ 9.08524103, 11.4252738 ],\n",
       "       [10.09802159, 11.89702357],\n",
       "       [ 9.28781662, 11.1207029 ],\n",
       "       [ 7.70916208, 11.20215936],\n",
       "       [ 8.32942164,  9.17132166],\n",
       "       [ 7.82708759,  8.62028333],\n",
       "       [ 9.55501337, 11.51579194],\n",
       "       [10.1020607 , 12.00329526],\n",
       "       [ 7.85245084, 10.24384138],\n",
       "       [ 8.28536873, 10.4080999 ],\n",
       "       [ 8.27547654,  9.80944677],\n",
       "       [ 8.48297769, 10.00214886],\n",
       "       [ 7.91822502,  9.61210891],\n",
       "       [ 9.95160987, 12.27676104],\n",
       "       [ 8.74674772,  9.54645124],\n",
       "       [ 8.59297521,  9.61185616],\n",
       "       [ 8.11840746,  9.57617884],\n",
       "       [ 9.12352823, 10.96646469],\n",
       "       [ 8.84357499, 10.79506243],\n",
       "       [10.4408661 , 12.37321675],\n",
       "       [ 8.83082011, 10.19846123]])"
      ]
     },
     "execution_count": 60,
     "metadata": {},
     "output_type": "execute_result"
    }
   ],
   "execution_count": 60
  },
  {
   "metadata": {
    "ExecuteTime": {
     "end_time": "2024-04-21T10:00:47.877084Z",
     "start_time": "2024-04-21T10:00:47.864084Z"
    }
   },
   "cell_type": "code",
   "source": "Y_",
   "id": "77cf03f621d0f7a9",
   "outputs": [
    {
     "data": {
      "text/plain": [
       "array([0, 0, 0, 0, 0, 0, 0, 0, 0, 0, 0, 0, 0, 0, 0, 0, 0, 0, 0, 0, 0, 0,\n",
       "       0, 0, 0, 0, 0, 0, 0, 0, 0, 0, 0, 0, 0, 0, 0, 0, 0, 0, 0, 0, 0, 0,\n",
       "       0, 0, 0, 0, 0, 0, 0, 0, 0, 0, 0, 0, 0, 0, 0, 0, 0, 0, 0, 0, 0, 0,\n",
       "       0, 0, 0, 0, 0, 0, 0, 0, 0, 0, 0, 0, 0, 0, 0, 0, 0, 0, 0, 0, 0, 0,\n",
       "       0, 0, 0, 0, 0, 0, 0, 0, 0, 0, 0, 0, 1, 1, 1, 1, 1, 1, 1, 1, 1, 1,\n",
       "       1, 1, 1, 1, 1, 1, 1, 1, 1, 1, 1, 1, 1, 1, 1, 1, 1, 1, 1, 1, 1, 1,\n",
       "       1, 1, 1, 1, 1, 1, 1, 1, 1, 1, 1, 1, 1, 1, 1, 1, 1, 1, 1, 1, 1, 1,\n",
       "       1, 1, 1, 1, 1, 1, 1, 1, 1, 1, 1, 1, 1, 1, 1, 1, 1, 1, 1, 1, 1, 1,\n",
       "       1, 1, 1, 1, 1, 1, 1, 1, 1, 1, 1, 1, 1, 1, 1, 1, 1, 1, 1, 1, 1, 1,\n",
       "       1, 1])"
      ]
     },
     "execution_count": 51,
     "metadata": {},
     "output_type": "execute_result"
    }
   ],
   "execution_count": 51
  },
  {
   "cell_type": "markdown",
   "source": "## 3. Grafički prikaz rezultata klasifikacije",
   "metadata": {
    "collapsed": false
   },
   "id": "4a8e8721c7c3c83b"
  },
  {
   "cell_type": "code",
   "outputs": [],
   "source": [
    "def graph_data(X: ndarray, Y_: ndarray, Y: ndarray, special: list = []) -> None:\n",
    "    \"\"\"\n",
    "    :param special: for special points\n",
    "    :param X: data \n",
    "    :param Y_: correct labels\n",
    "    :param Y: predicted labels\n",
    "    :return: None\n",
    "    \"\"\"\n",
    "    # colors of the datapoint markers\n",
    "    palette = ([0.5, 0.5, 0.5], [1, 1, 1], [0.2, 0.2, 0.2])\n",
    "    colors = np.tile([0.0, 0.0, 0.0], (Y_.shape[0], 1))\n",
    "    for i in range(len(palette)):\n",
    "        colors[Y_ == i] = palette[i]\n",
    "\n",
    "    # sizes of the datapoint markers\n",
    "    sizes = np.repeat(20, len(Y_))\n",
    "    sizes[special] = 40\n",
    "\n",
    "    # draw the correctly classified datapoints\n",
    "    good = (Y_ == Y)\n",
    "    plt.scatter(X[good, 0], X[good, 1], c=colors[good], s=sizes[good], marker='o', edgecolors='black')\n",
    "\n",
    "    # draw the incorrectly classified datapoints\n",
    "    bad = (Y_ != Y)\n",
    "    plt.scatter(X[bad, 0], X[bad, 1], c=colors[bad], s=sizes[bad], marker='s', edgecolors='black')"
   ],
   "metadata": {
    "collapsed": false,
    "ExecuteTime": {
     "end_time": "2024-03-14T16:38:16.580207Z",
     "start_time": "2024-03-14T16:38:16.565886Z"
    }
   },
   "id": "f145d3dd0aa3a1c1",
   "execution_count": 13
  },
  {
   "cell_type": "code",
   "outputs": [],
   "source": [
    " def myDummyDecision(X):\n",
    "    scores = X[:, 0] + X[:, 1] - 5\n",
    "    return scores"
   ],
   "metadata": {
    "collapsed": false,
    "ExecuteTime": {
     "end_time": "2024-03-14T16:38:16.596292Z",
     "start_time": "2024-03-14T16:38:16.585805Z"
    }
   },
   "id": "a86fb991229a4b61",
   "execution_count": 14
  },
  {
   "cell_type": "code",
   "outputs": [
    {
     "name": "stdout",
     "output_type": "stream",
     "text": [
      "Iteration: 0, Error: [3.59841584]\n",
      "Iteration: 10, Error: [0.71872829]\n",
      "Iteration: 20, Error: [0.18721056]\n",
      "Iteration: 30, Error: [0.15433528]\n",
      "Iteration: 40, Error: [0.13923673]\n",
      "Iteration: 50, Error: [0.12925521]\n",
      "Iteration: 60, Error: [0.12202598]\n",
      "Iteration: 70, Error: [0.11647246]\n",
      "Iteration: 80, Error: [0.11202682]\n",
      "Iteration: 90, Error: [0.10835803]\n"
     ]
    },
    {
     "data": {
      "text/plain": "<Figure size 640x480 with 1 Axes>",
      "image/png": "[encoded data removed]"
     },
     "metadata": {},
     "output_type": "display_data"
    }
   ],
   "source": [
    "np.random.seed(100)\n",
    "X, Y_ = sample_gauss_2d(2, 100)\n",
    "w, b = binlogref_train(X, Y_, param_niter=100, param_delta=0.2)\n",
    "probs = binlogreg_classification(X, w, b)\n",
    "Y = np.round(probs).astype(int)\n",
    "Y_ = np.squeeze(Y_)\n",
    "graph_data(X, Y_, Y)\n",
    "plt.show()"
   ],
   "metadata": {
    "collapsed": false,
    "ExecuteTime": {
     "end_time": "2024-03-14T16:38:16.861274Z",
     "start_time": "2024-03-14T16:38:16.598291Z"
    }
   },
   "id": "d2e1006b8994178a",
   "execution_count": 15
  },
  {
   "cell_type": "markdown",
   "source": [
    "## 4. Iscrtavanje funkcije odluke"
   ],
   "metadata": {
    "collapsed": false
   },
   "id": "fb64e7a057175928"
  },
  {
   "cell_type": "code",
   "outputs": [],
   "source": [
    "def graph_surface(function, rect, offset=0.5, width=256, height=256):\n",
    "    \"\"\"Creates a surface plot (visualize with plt.show)\n",
    "  \n",
    "    Arguments:\n",
    "      function: surface to be plotted\n",
    "      rect:     function domain provided as:\n",
    "                ([x_min,y_min], [x_max,y_max])\n",
    "      offset:   the level plotted as a contour plot\n",
    "  \n",
    "    Returns:\n",
    "      None\n",
    "    \"\"\"\n",
    "\n",
    "    lsw = np.linspace(rect[0][1], rect[1][1], width)\n",
    "    lsh = np.linspace(rect[0][0], rect[1][0], height)\n",
    "    xx0, xx1 = np.meshgrid(lsh, lsw)\n",
    "    grid = np.stack((xx0.flatten(), xx1.flatten()), axis=1)\n",
    "\n",
    "    #get the values and reshape them\n",
    "    values = function(grid).reshape((width, height))\n",
    "\n",
    "    # fix the range and offset\n",
    "    delta = offset if offset else 0\n",
    "    maxval = max(np.max(values) - delta, - (np.min(values) - delta))\n",
    "\n",
    "    # draw the surface and the offset\n",
    "    plt.pcolormesh(xx0, xx1, values,\n",
    "                   vmin=delta - maxval, vmax=delta + maxval)\n",
    "\n",
    "    if offset != None:\n",
    "        plt.contour(xx0, xx1, values, colors='black', levels=[offset])"
   ],
   "metadata": {
    "collapsed": false,
    "ExecuteTime": {
     "end_time": "2024-03-14T16:38:16.877274Z",
     "start_time": "2024-03-14T16:38:16.862174Z"
    }
   },
   "id": "cef9b85be440fb98",
   "execution_count": 16
  },
  {
   "cell_type": "code",
   "outputs": [
    {
     "name": "stdout",
     "output_type": "stream",
     "text": [
      "Iteration: 0, Error: [3.59841584]\n",
      "Iteration: 10, Error: [0.71872829]\n",
      "Iteration: 20, Error: [0.18721056]\n",
      "Iteration: 30, Error: [0.15433528]\n",
      "Iteration: 40, Error: [0.13923673]\n",
      "Iteration: 50, Error: [0.12925521]\n",
      "Iteration: 60, Error: [0.12202598]\n",
      "Iteration: 70, Error: [0.11647246]\n",
      "Iteration: 80, Error: [0.11202682]\n",
      "Iteration: 90, Error: [0.10835803]\n"
     ]
    },
    {
     "data": {
      "text/plain": "<Figure size 640x480 with 1 Axes>",
      "image/png": "[encoded data removed]"
     },
     "metadata": {},
     "output_type": "display_data"
    }
   ],
   "source": [
    "np.random.seed(100)\n",
    "\n",
    "# get the training dataset\n",
    "X, Y_ = sample_gauss_2d(2, 100)\n",
    "\n",
    "# get the class predictions\n",
    "w, b = binlogref_train(X, Y_, param_niter=100, param_delta=0.2)\n",
    "probs = binlogreg_classification(X, w, b)\n",
    "Y = np.round(probs).astype(int)\n",
    "Y_ = np.squeeze(Y_)\n",
    "\n",
    "# graph the surface\n",
    "bbox = (np.min(X, axis=0), np.max(X, axis=0))\n",
    "graph_surface(myDummyDecision, bbox, offset=0)\n",
    "\n",
    "# graph the data points\n",
    "graph_data(X, Y_, Y)\n",
    "\n",
    "# show the results\n",
    "plt.show()"
   ],
   "metadata": {
    "collapsed": false,
    "ExecuteTime": {
     "end_time": "2024-03-14T16:38:17.234734Z",
     "start_time": "2024-03-14T16:38:16.879273Z"
    }
   },
   "id": "b47375ced990907f",
   "execution_count": 17
  },
  {
   "cell_type": "markdown",
   "source": [
    "## 5. Grafički prikaz binarne logističke regresije"
   ],
   "metadata": {
    "collapsed": false
   },
   "id": "5bd29f431a26959d"
  },
  {
   "cell_type": "code",
   "outputs": [],
   "source": [
    "def binlogreg_decfun(w, b):\n",
    "    def classify(X):\n",
    "        return binlogreg_classification(X, w, b)\n",
    "\n",
    "    return classify"
   ],
   "metadata": {
    "collapsed": false,
    "ExecuteTime": {
     "end_time": "2024-03-14T16:38:17.250042Z",
     "start_time": "2024-03-14T16:38:17.236733Z"
    }
   },
   "id": "d44d4759586ba7f7",
   "execution_count": 18
  },
  {
   "cell_type": "code",
   "outputs": [
    {
     "name": "stdout",
     "output_type": "stream",
     "text": [
      "Iteration: 0, Error: [3.59841584]\n",
      "Iteration: 10, Error: [0.71872829]\n",
      "Iteration: 20, Error: [0.18721056]\n",
      "Iteration: 30, Error: [0.15433528]\n",
      "Iteration: 40, Error: [0.13923673]\n",
      "Iteration: 50, Error: [0.12925521]\n",
      "Iteration: 60, Error: [0.12202598]\n",
      "Iteration: 70, Error: [0.11647246]\n",
      "Iteration: 80, Error: [0.11202682]\n",
      "Iteration: 90, Error: [0.10835803]\n",
      "TP: 100, TN: 94, FP: 6, FN: 0\n",
      "0.97 0.9433962264150944 1.0\n"
     ]
    },
    {
     "data": {
      "text/plain": "<Figure size 640x480 with 1 Axes>",
      "image/png": "[encoded data removed]"
     },
     "metadata": {},
     "output_type": "display_data"
    }
   ],
   "source": [
    "np.random.seed(100)\n",
    "\n",
    "# instantiate the dataset\n",
    "X, Y_ = sample_gauss_2d(2, 100)\n",
    "\n",
    "# train the logistic regression model\n",
    "w, b = binlogref_train(X, Y_, param_niter=100, param_delta=0.2)\n",
    "probs = binlogreg_classification(X, w, b)\n",
    "Y = np.round(probs).astype(int)\n",
    "Y_ = np.squeeze(Y_)\n",
    "\n",
    "# evaluate and print performance measures\n",
    "acc, recall, precision = eval_perf_binary(Y, Y_)\n",
    "#AP = eval_AP(Y_[probs.flatten().argsort()])\n",
    "print(acc, recall, precision)\n",
    "\n",
    "# graph the decision surface\n",
    "decfun = binlogreg_decfun(w, b)\n",
    "bbox = (np.min(X, axis=0), np.max(X, axis=0))\n",
    "graph_surface(decfun, bbox, offset=0.5)\n",
    "\n",
    "# graph the data points\n",
    "graph_data(X, Y_, Y)\n",
    "\n",
    "# show the plot\n",
    "plt.show()"
   ],
   "metadata": {
    "collapsed": false,
    "ExecuteTime": {
     "end_time": "2024-03-14T16:38:17.579485Z",
     "start_time": "2024-03-14T16:38:17.252388Z"
    }
   },
   "id": "ff6195b1c64e2225",
   "execution_count": 19
  },
  {
   "cell_type": "markdown",
   "source": [
    "## 6. Višerazredna logistička regresija"
   ],
   "metadata": {
    "collapsed": false
   },
   "id": "ca44d667e9990e8e"
  },
  {
   "cell_type": "code",
   "source": [
    "def calculate_loss(probs: ndarray, Y_: ndarray) -> float:\n",
    "    \"\"\"\n",
    "    Calculates the loss of multinomial logistic regression\n",
    "    :param probs: calculated probabilities\n",
    "    :param Y_: True labels for multinomial logistic\n",
    "    :return: loss\n",
    "    \"\"\"\n",
    "    correct_probs = probs[np.arange(len(Y_)), Y_]\n",
    "    loss = -np.mean(np.log(correct_probs))\n",
    "    return loss\n"
   ],
   "metadata": {
    "collapsed": false,
    "ExecuteTime": {
     "end_time": "2024-04-21T10:08:47.114301Z",
     "start_time": "2024-04-21T10:08:47.096975Z"
    }
   },
   "id": "6b6e88a1c397450c",
   "outputs": [],
   "execution_count": 70
  },
  {
   "cell_type": "code",
   "source": [
    "from tensorflow.keras.utils import to_categorical\n",
    "\n",
    "\n",
    "def logreg_train(\n",
    "        X: ndarray,\n",
    "        Y_: ndarray,\n",
    "        num_iterations: int = 100,\n",
    "        learning_rate: float = 0.1,\n",
    "        print_constant: int = 1000\n",
    ") -> Tuple[ndarray, ndarray]:\n",
    "    \"\"\"\n",
    "    \n",
    "    :param X: data \n",
    "    :param Y_: true labels\n",
    "    :return: \n",
    "    \"\"\"\n",
    "\n",
    "    num_of_classes: int = max(Y_)[0] + 1\n",
    "    num_of_features: int = X.shape[1]\n",
    "\n",
    "    ##print(f\"Number of classes: {num_of_classes}\")\n",
    "    ##print(f\"Number of features: {num_of_features}\")\n",
    "\n",
    "    w: ndarray = np.random.randn(num_of_classes, num_of_features)\n",
    "    b: ndarray = np.zeros(num_of_classes)\n",
    "    N: int = X.shape[0]\n",
    "    expended_y = to_categorical(Y_, num_classes=num_of_classes)\n",
    "\n",
    "    # print(w)\n",
    "    # print(b)\n",
    "    # print(f\"Shape of w: {w.shape}\")\n",
    "    # print(f\"Shape of b: {b.shape}\")\n",
    "    # print(f\"Shape of X: {X.shape}\")\n",
    "    # print(f\"Shape of Y: {Y_.shape}\")\n",
    "    # print(f\"Learning rate: {learning_rate}\")\n",
    "    # print(f\"Expended y: \\n{expended_y}\")\n",
    "\n",
    "    for i in range(num_iterations):\n",
    "        scores: ndarray = np.dot(X, np.transpose(w)) + b\n",
    "        ## print(f\"Scores: \\n {scores}\")\n",
    "        ## print(f\"Shape of scores: {scores.shape}\")\n",
    "        exp_scores: ndarray = np.exp(scores)\n",
    "        ## print(f\"Exp scores: \\n {exp_scores}\")\n",
    "        ## print(f\"Shape of exp_scores: {exp_scores.shape}\")\n",
    "\n",
    "        sum_exp: ndarray = np.sum(exp_scores, axis=1, keepdims=True)\n",
    "        ## print(f\"Sum of exp scores: {sum_exp}\")\n",
    "        ## print(f\"Shape of sum exp scores: {sum_exp.shape}\")\n",
    "\n",
    "        probs: ndarray = exp_scores / sum_exp\n",
    "        ## print(f\"Probabilities: {probs}\")\n",
    "        ## print(f\"Shape of probs: {probs.shape}\")\n",
    "        ## print(f\"Sum of probabilities: {np.sum(probs, axis=1, keepdims=True)}\")\n",
    "\n",
    "        loss: float = calculate_loss(probs, Y_)\n",
    "        if i % print_constant == 0:\n",
    "            # print(f\"w: \\n{w}\")\n",
    "            # print(f\"b: \\n{b}\")\n",
    "            # print(f\"scores: \\n{scores}\"\"\")\n",
    "            print(\"iteration {}: loss {}\".format(i, loss))\n",
    "\n",
    "        dL_ds = probs - expended_y\n",
    "        grad_W = (np.dot(np.transpose(dL_ds), X)) / N  #...  # C x D (ili D x C)\n",
    "        ## print(f\"grad_W: {grad_W}\")\n",
    "        ## print(f\"grad_W shape: {grad_W.shape}\")\n",
    "        grad_b = (np.sum(np.transpose(dL_ds), axis=1)) / N  #...  # C x 1 (ili 1 x C)\n",
    "\n",
    "        w += -learning_rate * grad_W\n",
    "        b += -learning_rate * grad_b\n",
    "\n",
    "    return w, b"
   ],
   "metadata": {
    "collapsed": false,
    "ExecuteTime": {
     "end_time": "2024-04-21T10:08:47.587024Z",
     "start_time": "2024-04-21T10:08:47.566019Z"
    }
   },
   "id": "c8e9a22d73accf5",
   "outputs": [],
   "execution_count": 71
  },
  {
   "cell_type": "code",
   "source": [
    "X, Y_ = sample_gauss_2d(2, 10)\n",
    "logreg_train(X, Y_, 10000, 0.01, print_constant=1000)"
   ],
   "metadata": {
    "collapsed": false,
    "ExecuteTime": {
     "end_time": "2024-04-21T10:08:49.383803Z",
     "start_time": "2024-04-21T10:08:48.999997Z"
    }
   },
   "id": "8aea92cd9c78876b",
   "outputs": [
    {
     "name": "stdout",
     "output_type": "stream",
     "text": [
      "iteration 0: loss 5.087208179744172\n",
      "iteration 1000: loss 0.707923831226247\n",
      "iteration 2000: loss 0.7151604794796582\n",
      "iteration 3000: loss 0.7171278380826551\n",
      "iteration 4000: loss 0.718573011368542\n",
      "iteration 5000: loss 0.7202398039631415\n",
      "iteration 6000: loss 0.7222013522720668\n",
      "iteration 7000: loss 0.7244349393419524\n",
      "iteration 8000: loss 0.7269074086930655\n",
      "iteration 9000: loss 0.729587305170758\n"
     ]
    },
    {
     "data": {
      "text/plain": [
       "(array([[-0.70484606, -0.27089834],\n",
       "        [-0.70482918,  0.58460151]]),\n",
       " array([ 2.03439807, -2.03439807]))"
      ]
     },
     "execution_count": 72,
     "metadata": {},
     "output_type": "execute_result"
    }
   ],
   "execution_count": 72
  },
  {
   "cell_type": "code",
   "source": [
    "def logreg_classify(X: ndarray, w: ndarray, b: ndarray) -> ndarray:\n",
    "    scores: ndarray = np.dot(X, np.transpose(w)) + b\n",
    "    exp_scores: ndarray = np.exp(scores)\n",
    "    sum_exp: ndarray = np.sum(exp_scores, axis=1, keepdims=True)\n",
    "    return exp_scores / sum_exp"
   ],
   "metadata": {
    "collapsed": false,
    "ExecuteTime": {
     "end_time": "2024-04-21T10:07:47.795906Z",
     "start_time": "2024-04-21T10:07:47.783904Z"
    }
   },
   "id": "161b14e3c4fd4d0d",
   "outputs": [],
   "execution_count": 65
  },
  {
   "cell_type": "code",
   "source": [
    "X, Y_ = sample_gauss_2d(2, 100)\n",
    "np.unique(Y_), len(np.unique(Y_))"
   ],
   "metadata": {
    "collapsed": false,
    "ExecuteTime": {
     "end_time": "2024-04-21T10:07:48.028735Z",
     "start_time": "2024-04-21T10:07:48.015740Z"
    }
   },
   "id": "2977fb0ae3ae6d1e",
   "outputs": [
    {
     "data": {
      "text/plain": [
       "(array([0, 1]), 2)"
      ]
     },
     "execution_count": 66,
     "metadata": {},
     "output_type": "execute_result"
    }
   ],
   "execution_count": 66
  },
  {
   "cell_type": "code",
   "source": [
    "from sklearn.metrics import confusion_matrix, ConfusionMatrixDisplay\n",
    "\n",
    "X, Y_ = sample_gauss_2d(2, 100)\n",
    "w, b = logreg_train(X, Y_, 20000, 0.01)\n",
    "probs = logreg_classify(X, w, b)\n",
    "Y = np.argmax(probs, axis=1)\n",
    "classes = np.unique(Y_)\n",
    "cm = confusion_matrix(Y_, Y, labels=classes)\n",
    "disp = ConfusionMatrixDisplay(confusion_matrix=cm, display_labels=classes)\n",
    "disp.plot()\n",
    "plt.show()"
   ],
   "metadata": {
    "collapsed": false,
    "ExecuteTime": {
     "end_time": "2024-04-21T10:10:03.001657Z",
     "start_time": "2024-04-21T10:09:54.481716Z"
    }
   },
   "id": "832cfd180d356730",
   "outputs": [
    {
     "name": "stdout",
     "output_type": "stream",
     "text": [
      "iteration 0: loss 2.4544373864702074\n",
      "iteration 1000: loss 0.7569626593134439\n",
      "iteration 2000: loss 0.75131392531937\n",
      "iteration 3000: loss 0.7517252718918933\n",
      "iteration 4000: loss 0.7530878775783327\n",
      "iteration 5000: loss 0.7548231069509351\n",
      "iteration 6000: loss 0.7568437816427566\n",
      "iteration 7000: loss 0.7591179261978183\n",
      "iteration 8000: loss 0.7616210906790531\n",
      "iteration 9000: loss 0.7643310794053093\n",
      "iteration 10000: loss 0.7672273321735446\n",
      "iteration 11000: loss 0.7702908086115423\n",
      "iteration 12000: loss 0.7735039188219204\n",
      "iteration 13000: loss 0.7768504522695248\n",
      "iteration 14000: loss 0.7803155020904597\n",
      "iteration 15000: loss 0.7838853866335327\n",
      "iteration 16000: loss 0.7875475701428876\n",
      "iteration 17000: loss 0.7912905841244243\n",
      "iteration 18000: loss 0.7951039505731418\n",
      "iteration 19000: loss 0.7989781079252744\n"
     ]
    },
    {
     "data": {
      "text/plain": [
       "<Figure size 640x480 with 2 Axes>"
      ],
      "image/png": "[encoded data removed]"
     },
     "metadata": {},
     "output_type": "display_data"
    }
   ],
   "execution_count": 74
  },
  {
   "cell_type": "code",
   "outputs": [
    {
     "name": "stdout",
     "output_type": "stream",
     "text": [
      "Accuracy: 0.995\n",
      "Precision: 0.995049504950495\n",
      "Recall: 0.995\n",
      "F1 Score: 0.9949998749968749\n"
     ]
    }
   ],
   "source": [
    "from sklearn.metrics import accuracy_score, precision_score, recall_score, f1_score\n",
    "\n",
    "accuracy = accuracy_score(Y_, Y)\n",
    "precision = precision_score(Y_, Y, average='macro')\n",
    "recall = recall_score(Y_, Y, average='macro')\n",
    "f1 = f1_score(Y_, Y, average='macro')\n",
    "\n",
    "print(\"Accuracy:\", accuracy)\n",
    "print(\"Precision:\", precision)\n",
    "print(\"Recall:\", recall)\n",
    "print(\"F1 Score:\", f1)"
   ],
   "metadata": {
    "collapsed": false,
    "ExecuteTime": {
     "end_time": "2024-03-14T16:53:20.572845Z",
     "start_time": "2024-03-14T16:53:20.548851Z"
    }
   },
   "id": "cf118550e58b6aab",
   "execution_count": 51
  },
  {
   "cell_type": "code",
   "outputs": [
    {
     "name": "stdout",
     "output_type": "stream",
     "text": [
      "Number of classes: 3\n",
      "Number of features: 2\n",
      "[[-0.14070209 -0.00444355]\n",
      " [-0.51211756  1.33687363]\n",
      " [-0.19311018 -0.35176538]]\n",
      "[0. 0. 0.]\n",
      "Shape of w: (3, 2)\n",
      "Shape of b: (3,)\n",
      "Shape of X: (300, 2)\n",
      "Shape of Y: (300, 1)\n",
      "Learning rate: 0.01\n",
      "Expended y: \n",
      "[[1. 0. 0.]\n",
      " [1. 0. 0.]\n",
      " [1. 0. 0.]\n",
      " [1. 0. 0.]\n",
      " [1. 0. 0.]\n",
      " [1. 0. 0.]\n",
      " [1. 0. 0.]\n",
      " [1. 0. 0.]\n",
      " [1. 0. 0.]\n",
      " [1. 0. 0.]\n",
      " [1. 0. 0.]\n",
      " [1. 0. 0.]\n",
      " [1. 0. 0.]\n",
      " [1. 0. 0.]\n",
      " [1. 0. 0.]\n",
      " [1. 0. 0.]\n",
      " [1. 0. 0.]\n",
      " [1. 0. 0.]\n",
      " [1. 0. 0.]\n",
      " [1. 0. 0.]\n",
      " [1. 0. 0.]\n",
      " [1. 0. 0.]\n",
      " [1. 0. 0.]\n",
      " [1. 0. 0.]\n",
      " [1. 0. 0.]\n",
      " [1. 0. 0.]\n",
      " [1. 0. 0.]\n",
      " [1. 0. 0.]\n",
      " [1. 0. 0.]\n",
      " [1. 0. 0.]\n",
      " [1. 0. 0.]\n",
      " [1. 0. 0.]\n",
      " [1. 0. 0.]\n",
      " [1. 0. 0.]\n",
      " [1. 0. 0.]\n",
      " [1. 0. 0.]\n",
      " [1. 0. 0.]\n",
      " [1. 0. 0.]\n",
      " [1. 0. 0.]\n",
      " [1. 0. 0.]\n",
      " [1. 0. 0.]\n",
      " [1. 0. 0.]\n",
      " [1. 0. 0.]\n",
      " [1. 0. 0.]\n",
      " [1. 0. 0.]\n",
      " [1. 0. 0.]\n",
      " [1. 0. 0.]\n",
      " [1. 0. 0.]\n",
      " [1. 0. 0.]\n",
      " [1. 0. 0.]\n",
      " [1. 0. 0.]\n",
      " [1. 0. 0.]\n",
      " [1. 0. 0.]\n",
      " [1. 0. 0.]\n",
      " [1. 0. 0.]\n",
      " [1. 0. 0.]\n",
      " [1. 0. 0.]\n",
      " [1. 0. 0.]\n",
      " [1. 0. 0.]\n",
      " [1. 0. 0.]\n",
      " [1. 0. 0.]\n",
      " [1. 0. 0.]\n",
      " [1. 0. 0.]\n",
      " [1. 0. 0.]\n",
      " [1. 0. 0.]\n",
      " [1. 0. 0.]\n",
      " [1. 0. 0.]\n",
      " [1. 0. 0.]\n",
      " [1. 0. 0.]\n",
      " [1. 0. 0.]\n",
      " [1. 0. 0.]\n",
      " [1. 0. 0.]\n",
      " [1. 0. 0.]\n",
      " [1. 0. 0.]\n",
      " [1. 0. 0.]\n",
      " [1. 0. 0.]\n",
      " [1. 0. 0.]\n",
      " [1. 0. 0.]\n",
      " [1. 0. 0.]\n",
      " [1. 0. 0.]\n",
      " [1. 0. 0.]\n",
      " [1. 0. 0.]\n",
      " [1. 0. 0.]\n",
      " [1. 0. 0.]\n",
      " [1. 0. 0.]\n",
      " [1. 0. 0.]\n",
      " [1. 0. 0.]\n",
      " [1. 0. 0.]\n",
      " [1. 0. 0.]\n",
      " [1. 0. 0.]\n",
      " [1. 0. 0.]\n",
      " [1. 0. 0.]\n",
      " [1. 0. 0.]\n",
      " [1. 0. 0.]\n",
      " [1. 0. 0.]\n",
      " [1. 0. 0.]\n",
      " [1. 0. 0.]\n",
      " [1. 0. 0.]\n",
      " [1. 0. 0.]\n",
      " [1. 0. 0.]\n",
      " [0. 1. 0.]\n",
      " [0. 1. 0.]\n",
      " [0. 1. 0.]\n",
      " [0. 1. 0.]\n",
      " [0. 1. 0.]\n",
      " [0. 1. 0.]\n",
      " [0. 1. 0.]\n",
      " [0. 1. 0.]\n",
      " [0. 1. 0.]\n",
      " [0. 1. 0.]\n",
      " [0. 1. 0.]\n",
      " [0. 1. 0.]\n",
      " [0. 1. 0.]\n",
      " [0. 1. 0.]\n",
      " [0. 1. 0.]\n",
      " [0. 1. 0.]\n",
      " [0. 1. 0.]\n",
      " [0. 1. 0.]\n",
      " [0. 1. 0.]\n",
      " [0. 1. 0.]\n",
      " [0. 1. 0.]\n",
      " [0. 1. 0.]\n",
      " [0. 1. 0.]\n",
      " [0. 1. 0.]\n",
      " [0. 1. 0.]\n",
      " [0. 1. 0.]\n",
      " [0. 1. 0.]\n",
      " [0. 1. 0.]\n",
      " [0. 1. 0.]\n",
      " [0. 1. 0.]\n",
      " [0. 1. 0.]\n",
      " [0. 1. 0.]\n",
      " [0. 1. 0.]\n",
      " [0. 1. 0.]\n",
      " [0. 1. 0.]\n",
      " [0. 1. 0.]\n",
      " [0. 1. 0.]\n",
      " [0. 1. 0.]\n",
      " [0. 1. 0.]\n",
      " [0. 1. 0.]\n",
      " [0. 1. 0.]\n",
      " [0. 1. 0.]\n",
      " [0. 1. 0.]\n",
      " [0. 1. 0.]\n",
      " [0. 1. 0.]\n",
      " [0. 1. 0.]\n",
      " [0. 1. 0.]\n",
      " [0. 1. 0.]\n",
      " [0. 1. 0.]\n",
      " [0. 1. 0.]\n",
      " [0. 1. 0.]\n",
      " [0. 1. 0.]\n",
      " [0. 1. 0.]\n",
      " [0. 1. 0.]\n",
      " [0. 1. 0.]\n",
      " [0. 1. 0.]\n",
      " [0. 1. 0.]\n",
      " [0. 1. 0.]\n",
      " [0. 1. 0.]\n",
      " [0. 1. 0.]\n",
      " [0. 1. 0.]\n",
      " [0. 1. 0.]\n",
      " [0. 1. 0.]\n",
      " [0. 1. 0.]\n",
      " [0. 1. 0.]\n",
      " [0. 1. 0.]\n",
      " [0. 1. 0.]\n",
      " [0. 1. 0.]\n",
      " [0. 1. 0.]\n",
      " [0. 1. 0.]\n",
      " [0. 1. 0.]\n",
      " [0. 1. 0.]\n",
      " [0. 1. 0.]\n",
      " [0. 1. 0.]\n",
      " [0. 1. 0.]\n",
      " [0. 1. 0.]\n",
      " [0. 1. 0.]\n",
      " [0. 1. 0.]\n",
      " [0. 1. 0.]\n",
      " [0. 1. 0.]\n",
      " [0. 1. 0.]\n",
      " [0. 1. 0.]\n",
      " [0. 1. 0.]\n",
      " [0. 1. 0.]\n",
      " [0. 1. 0.]\n",
      " [0. 1. 0.]\n",
      " [0. 1. 0.]\n",
      " [0. 1. 0.]\n",
      " [0. 1. 0.]\n",
      " [0. 1. 0.]\n",
      " [0. 1. 0.]\n",
      " [0. 1. 0.]\n",
      " [0. 1. 0.]\n",
      " [0. 1. 0.]\n",
      " [0. 1. 0.]\n",
      " [0. 1. 0.]\n",
      " [0. 1. 0.]\n",
      " [0. 1. 0.]\n",
      " [0. 1. 0.]\n",
      " [0. 1. 0.]\n",
      " [0. 0. 1.]\n",
      " [0. 0. 1.]\n",
      " [0. 0. 1.]\n",
      " [0. 0. 1.]\n",
      " [0. 0. 1.]\n",
      " [0. 0. 1.]\n",
      " [0. 0. 1.]\n",
      " [0. 0. 1.]\n",
      " [0. 0. 1.]\n",
      " [0. 0. 1.]\n",
      " [0. 0. 1.]\n",
      " [0. 0. 1.]\n",
      " [0. 0. 1.]\n",
      " [0. 0. 1.]\n",
      " [0. 0. 1.]\n",
      " [0. 0. 1.]\n",
      " [0. 0. 1.]\n",
      " [0. 0. 1.]\n",
      " [0. 0. 1.]\n",
      " [0. 0. 1.]\n",
      " [0. 0. 1.]\n",
      " [0. 0. 1.]\n",
      " [0. 0. 1.]\n",
      " [0. 0. 1.]\n",
      " [0. 0. 1.]\n",
      " [0. 0. 1.]\n",
      " [0. 0. 1.]\n",
      " [0. 0. 1.]\n",
      " [0. 0. 1.]\n",
      " [0. 0. 1.]\n",
      " [0. 0. 1.]\n",
      " [0. 0. 1.]\n",
      " [0. 0. 1.]\n",
      " [0. 0. 1.]\n",
      " [0. 0. 1.]\n",
      " [0. 0. 1.]\n",
      " [0. 0. 1.]\n",
      " [0. 0. 1.]\n",
      " [0. 0. 1.]\n",
      " [0. 0. 1.]\n",
      " [0. 0. 1.]\n",
      " [0. 0. 1.]\n",
      " [0. 0. 1.]\n",
      " [0. 0. 1.]\n",
      " [0. 0. 1.]\n",
      " [0. 0. 1.]\n",
      " [0. 0. 1.]\n",
      " [0. 0. 1.]\n",
      " [0. 0. 1.]\n",
      " [0. 0. 1.]\n",
      " [0. 0. 1.]\n",
      " [0. 0. 1.]\n",
      " [0. 0. 1.]\n",
      " [0. 0. 1.]\n",
      " [0. 0. 1.]\n",
      " [0. 0. 1.]\n",
      " [0. 0. 1.]\n",
      " [0. 0. 1.]\n",
      " [0. 0. 1.]\n",
      " [0. 0. 1.]\n",
      " [0. 0. 1.]\n",
      " [0. 0. 1.]\n",
      " [0. 0. 1.]\n",
      " [0. 0. 1.]\n",
      " [0. 0. 1.]\n",
      " [0. 0. 1.]\n",
      " [0. 0. 1.]\n",
      " [0. 0. 1.]\n",
      " [0. 0. 1.]\n",
      " [0. 0. 1.]\n",
      " [0. 0. 1.]\n",
      " [0. 0. 1.]\n",
      " [0. 0. 1.]\n",
      " [0. 0. 1.]\n",
      " [0. 0. 1.]\n",
      " [0. 0. 1.]\n",
      " [0. 0. 1.]\n",
      " [0. 0. 1.]\n",
      " [0. 0. 1.]\n",
      " [0. 0. 1.]\n",
      " [0. 0. 1.]\n",
      " [0. 0. 1.]\n",
      " [0. 0. 1.]\n",
      " [0. 0. 1.]\n",
      " [0. 0. 1.]\n",
      " [0. 0. 1.]\n",
      " [0. 0. 1.]\n",
      " [0. 0. 1.]\n",
      " [0. 0. 1.]\n",
      " [0. 0. 1.]\n",
      " [0. 0. 1.]\n",
      " [0. 0. 1.]\n",
      " [0. 0. 1.]\n",
      " [0. 0. 1.]\n",
      " [0. 0. 1.]\n",
      " [0. 0. 1.]\n",
      " [0. 0. 1.]\n",
      " [0. 0. 1.]\n",
      " [0. 0. 1.]\n",
      " [0. 0. 1.]]\n",
      "iteration 0: loss 4.358791645146457\n",
      "iteration 1000: loss 0.38599810137461654\n",
      "iteration 2000: loss 0.3579468344701361\n",
      "iteration 3000: loss 0.3407849248003914\n",
      "iteration 4000: loss 0.32736481328834616\n",
      "iteration 5000: loss 0.31609084042210656\n",
      "iteration 6000: loss 0.3063132837126805\n",
      "iteration 7000: loss 0.2976758648781893\n",
      "iteration 8000: loss 0.2899495458672767\n",
      "iteration 9000: loss 0.28297337152850904\n",
      "iteration 10000: loss 0.27662793951304904\n",
      "iteration 11000: loss 0.27082138911867926\n",
      "iteration 12000: loss 0.2654811251607849\n",
      "iteration 13000: loss 0.26054854853183285\n",
      "iteration 14000: loss 0.2559755252666915\n",
      "iteration 15000: loss 0.251721932267964\n",
      "iteration 16000: loss 0.24775390261807909\n",
      "iteration 17000: loss 0.24404254153813346\n",
      "iteration 18000: loss 0.24056296752657583\n",
      "iteration 19000: loss 0.23729358314064802\n"
     ]
    },
    {
     "data": {
      "text/plain": "<Figure size 640x480 with 2 Axes>",
      "image/png": "[encoded data removed]"
     },
     "metadata": {},
     "output_type": "display_data"
    }
   ],
   "source": [
    "from sklearn.metrics import confusion_matrix, ConfusionMatrixDisplay\n",
    "\n",
    "X, Y_ = sample_gauss_2d(3, 100)\n",
    "w, b = logreg_train(X, Y_, 20000, 0.01)\n",
    "probs = logreg_classify(X, w, b)\n",
    "Y = np.argmax(probs, axis=1)\n",
    "classes = np.unique(Y_)\n",
    "cm = confusion_matrix(Y_, Y, labels=classes)\n",
    "disp = ConfusionMatrixDisplay(confusion_matrix=cm, display_labels=classes)\n",
    "disp.plot()\n",
    "plt.show()"
   ],
   "metadata": {
    "collapsed": false,
    "ExecuteTime": {
     "end_time": "2024-03-14T16:53:36.776673Z",
     "start_time": "2024-03-14T16:53:23.698015Z"
    }
   },
   "id": "729f0018e26949f4",
   "execution_count": 52
  },
  {
   "cell_type": "code",
   "outputs": [
    {
     "name": "stdout",
     "output_type": "stream",
     "text": [
      "Accuracy: 0.9066666666666666\n",
      "Precision: 0.9077816676742905\n",
      "Recall: 0.9066666666666666\n",
      "F1 Score: 0.9066072597828193\n"
     ]
    }
   ],
   "source": [
    "from sklearn.metrics import accuracy_score, precision_score, recall_score, f1_score\n",
    "\n",
    "accuracy = accuracy_score(Y_, Y)\n",
    "precision = precision_score(Y_, Y, average='macro')\n",
    "recall = recall_score(Y_, Y, average='macro')\n",
    "f1 = f1_score(Y_, Y, average='macro')\n",
    "\n",
    "print(\"Accuracy:\", accuracy)\n",
    "print(\"Precision:\", precision)\n",
    "print(\"Recall:\", recall)\n",
    "print(\"F1 Score:\", f1)"
   ],
   "metadata": {
    "collapsed": false,
    "ExecuteTime": {
     "end_time": "2024-03-14T16:53:43.497770Z",
     "start_time": "2024-03-14T16:53:43.476655Z"
    }
   },
   "id": "46a7200859823b39",
   "execution_count": 53
  }
 ],
 "metadata": {
  "kernelspec": {
   "display_name": "Python 3",
   "language": "python",
   "name": "python3"
  },
  "language_info": {
   "codemirror_mode": {
    "name": "ipython",
    "version": 2
   },
   "file_extension": ".py",
   "mimetype": "text/x-python",
   "name": "python",
   "nbconvert_exporter": "python",
   "pygments_lexer": "ipython2",
   "version": "2.7.6"
  }
 },
 "nbformat": 4,
 "nbformat_minor": 5
}
